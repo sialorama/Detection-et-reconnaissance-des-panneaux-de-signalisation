{
 "cells": [
  {
   "cell_type": "markdown",
   "metadata": {},
   "source": [
    "# Détection et reconnaissance des panneaux de signalisation"
   ]
  },
  {
   "cell_type": "markdown",
   "metadata": {},
   "source": [
    "https://openclassrooms.com/fr/courses/4470531-classez-et-segmentez-des-donnees-visuelles/5088816-apprenez-a-construire-un-cnn-et-gagnez-du-temps-avec-le-transfer-learning"
   ]
  },
  {
   "cell_type": "markdown",
   "metadata": {},
   "source": [
    "Contexte du projet\n",
    "\n",
    "Dans le monde de l'IA des grandes entreprises comme Tesla, Uber, Google, Mercedes-Benz, etc. travaillent sur des véhicules autonomes et des voitures autonomes. Pour atteindre la précision de cette technologie, les véhicules doivent être capables d'interpréter les panneaux de signalisation et de prendre des décisions en conséquence. Votre objectif est de construire un modèle qui permet de réaliser cette tâche.\n",
    "\n",
    "Une interface graphique est demandée:\n",
    "\n",
    "    Qui permet de détecter dans une image les panneaux de signalisation et les reconnaitre (Afficher le label en Français).\n",
    "    Qui permet de détecter tous les panneaux dans une vidéo les reconnaitre et les afficher avec leurs labels.\n"
   ]
  },
  {
   "cell_type": "markdown",
   "metadata": {},
   "source": [
    "# ETAPES DE CLASSIFICATION DES PANNEAUX"
   ]
  },
  {
   "cell_type": "markdown",
   "metadata": {},
   "source": [
    "Description du jeu de données"
   ]
  },
  {
   "cell_type": "markdown",
   "metadata": {},
   "source": [
    "Import des  librairies"
   ]
  },
  {
   "cell_type": "markdown",
   "metadata": {},
   "source": [
    "Ouverture des fichiers de données et visualisation de chaque fichier"
   ]
  },
  {
   "cell_type": "markdown",
   "metadata": {},
   "source": [
    "Récupération des images et de leurs étiquettes"
   ]
  },
  {
   "cell_type": "markdown",
   "metadata": {},
   "source": [
    "Construction du modèle CNN (Convolutional Neural Network)"
   ]
  },
  {
   "cell_type": "markdown",
   "metadata": {},
   "source": [
    "Formation et validation le modèle"
   ]
  },
  {
   "cell_type": "code",
   "execution_count": null,
   "metadata": {},
   "outputs": [],
   "source": [
    " Interface graphique du classificateur des panneaux de signalisation"
   ]
  },
  {
   "cell_type": "markdown",
   "metadata": {},
   "source": [
    "## Description du jeu de données"
   ]
  },
  {
   "cell_type": "code",
   "execution_count": 2,
   "metadata": {},
   "outputs": [
    {
     "data": {
      "text/html": [
       "\n",
       "        <iframe\n",
       "            width=\"900\"\n",
       "            height=\"200\"\n",
       "            src=\"structuredujeudedonnees.PNG\"\n",
       "            frameborder=\"0\"\n",
       "            allowfullscreen\n",
       "        ></iframe>\n",
       "        "
      ],
      "text/plain": [
       "<IPython.lib.display.IFrame at 0x1b0460ed400>"
      ]
     },
     "execution_count": 2,
     "metadata": {},
     "output_type": "execute_result"
    }
   ],
   "source": [
    "from IPython.display import IFrame, display\n",
    "filepath = \"structuredujeudedonnees.PNG\"\n",
    "IFrame(filepath, width=900, height=200)"
   ]
  },
  {
   "cell_type": "markdown",
   "metadata": {},
   "source": [
    "- Répertoire Meta\n",
    "\n",
    "    43 panneaux \"types\" de signalisation ou 43 classes (cf cellule suivante, visualisation des classes)\n",
    "    \n",
    "\n",
    "- Répertoire Test\n",
    "\n",
    "    Images mélangées aléatoirement de tailles et formes différentes représeantant chacune des 43 panneaux\n",
    "    \n",
    "\n",
    "\n",
    "- Répertoire Train\n",
    "\n",
    "    43 répertoires, un par panneau \"type\" avec des images de différentes tailles et formes rangées \n",
    "    \n",
    "\n",
    "* Meta.csv\n",
    "\n",
    "    Fichier récap : description des 43 classes => numéro de classe, (cf visualisation)\n",
    "    \n",
    "\n",
    "* Test.csv\n",
    "\n",
    "    Fichier récap : chemin des images, dimension des images (hauteur, largeur, roi, class id, nom) (cf visualisation)\n",
    "    \n",
    "\n",
    "* Train.csv\n",
    "\n",
    "    Fichier récap : chemin des images, dimension des images (idem que fichier test hauteur, largeur, ROI,class id)(cf visualisation)\n",
    "    "
   ]
  },
  {
   "cell_type": "markdown",
   "metadata": {},
   "source": [
    "## Description des classes"
   ]
  },
  {
   "cell_type": "code",
   "execution_count": 3,
   "metadata": {},
   "outputs": [],
   "source": [
    "classes = { 0: \"Vitesse limite (20km/h)\", \n",
    "           1: \"Vitesse limite (30km/h)\", \n",
    "           2: \"Vitesse limite (50km/h)\", \n",
    "           3: \"Vitesse limite (60km/h)\", \n",
    "           4: \"Vitesse limite (70km/h)\", \n",
    "           5: \"Vitesse limite (80km/h)\",\n",
    "           6: \"Fin de limite de vitesse (80km/h)\", \n",
    "           7: \"Vitesse limite (120km/h)\", \n",
    "           8: \"Speed limit (120km/h)\",\n",
    "           9: \"Dépassement interdit\", \n",
    "           10: \"Dépassement interdit pour >3.5t\", \n",
    "           11: \"Priorité à droite à l’intersection\",\n",
    "           12: \"Route prioritaire\", \n",
    "           13: \"Cédez le passage\", \n",
    "           14: \"Stop\", \n",
    "           15: \"Interdit aux véhicules\", \n",
    "           16: \"Véhicules >3.5t interdits\",\n",
    "           17: \"Sens interdit\", \n",
    "           18: \"Panneau danger\", \n",
    "           19: \"Virage dangereux à gauche\", \n",
    "           20: \"Virage dangereux à droite\", \n",
    "           21: \"Succession de virages\", \n",
    "           22: \"Cassis ou dos-d’ânes\", \n",
    "           23: \"Route glissante\", \n",
    "           24: \"Chaussée rétrécie par la droite\",\n",
    "           25: \"Travaux\", \n",
    "           26: \"Feux tricolore\", \n",
    "           27: \"Passage piéton\", \n",
    "           28: \"Attention enfants\", \n",
    "           29: \"Attention vélos\",\n",
    "           30: \"Attention neige/verglas\", \n",
    "           31: \"Passage animaux sauvages\", \n",
    "           32: \"Fin de toutes interdictions\", \n",
    "           33: \"Direction obligatoire à droite\", \n",
    "           34: \"Direction obligatoire à gauche\", \n",
    "           35: \"Direction obligatoire tout droit\", \n",
    "           36: \"Direction obligatoire tout droit ou à droite\", \n",
    "           37: \"Direction obligatoire tout droit ou gauche\", \n",
    "           38: \"Contournement obligatoire par la droite\", \n",
    "           39: \"Contournement obligatoire par la gauche\", \n",
    "           40: \"Giratoire\",\n",
    "           41: \"Fin de l’interdiction de dépassement\", \n",
    "           42: \"Fin de l’interdiction de dépassement >3.5t\"}"
   ]
  },
  {
   "cell_type": "markdown",
   "metadata": {},
   "source": [
    "## Import des  librairies "
   ]
  },
  {
   "cell_type": "code",
   "execution_count": 4,
   "metadata": {},
   "outputs": [],
   "source": [
    "import numpy as np \n",
    "import pandas as pd \n",
    "import matplotlib.pyplot as plt\n",
    "import tensorflow as tf\n",
    "import cv2\n",
    "from PIL import Image\n",
    "import os\n",
    "from keras.utils import to_categorical\n",
    "import time\n",
    "import matplotlib.pyplot as plt\n",
    "import tensorflow as tf\n",
    "from tensorflow import keras\n",
    "from sklearn.model_selection import train_test_split\n",
    "from sklearn.metrics import accuracy_score\n",
    "np.random.seed(42)\n",
    "tf.random.set_seed(42)\n",
    "from keras.models import Sequential, load_model\n",
    "from keras.layers import Conv2D, MaxPool2D, Dense, Flatten, Dropout\n",
    "from keras.callbacks import EarlyStopping\n",
    "import seaborn as sns\n",
    "from sklearn.metrics import confusion_matrix"
   ]
  },
  {
   "cell_type": "markdown",
   "metadata": {},
   "source": [
    "## Ouverture des fichiers de données et visualisation de chaque fichier"
   ]
  },
  {
   "cell_type": "code",
   "execution_count": 5,
   "metadata": {},
   "outputs": [],
   "source": [
    "input_path = 'C:/Users/utilisateur/Google Drive/microsoft_ia/Google Drive/projets/ia/Reconnaissance de panneaux/Data_Signs/'\n",
    "\n",
    "train_csv = pd.read_csv(input_path + 'Train.csv')\n",
    "test_csv = pd.read_csv(input_path + 'Test.csv')\n",
    "meta_csv = pd.read_csv(input_path + 'Meta.csv')\n",
    "\n",
    "\n"
   ]
  },
  {
   "cell_type": "code",
   "execution_count": 6,
   "metadata": {},
   "outputs": [
    {
     "data": {
      "text/html": [
       "<div>\n",
       "<style scoped>\n",
       "    .dataframe tbody tr th:only-of-type {\n",
       "        vertical-align: middle;\n",
       "    }\n",
       "\n",
       "    .dataframe tbody tr th {\n",
       "        vertical-align: top;\n",
       "    }\n",
       "\n",
       "    .dataframe thead th {\n",
       "        text-align: right;\n",
       "    }\n",
       "</style>\n",
       "<table border=\"1\" class=\"dataframe\">\n",
       "  <thead>\n",
       "    <tr style=\"text-align: right;\">\n",
       "      <th></th>\n",
       "      <th>Width</th>\n",
       "      <th>Height</th>\n",
       "      <th>Roi.X1</th>\n",
       "      <th>Roi.Y1</th>\n",
       "      <th>Roi.X2</th>\n",
       "      <th>Roi.Y2</th>\n",
       "      <th>ClassId</th>\n",
       "      <th>Path</th>\n",
       "    </tr>\n",
       "  </thead>\n",
       "  <tbody>\n",
       "    <tr>\n",
       "      <th>0</th>\n",
       "      <td>27</td>\n",
       "      <td>26</td>\n",
       "      <td>5</td>\n",
       "      <td>5</td>\n",
       "      <td>22</td>\n",
       "      <td>20</td>\n",
       "      <td>20</td>\n",
       "      <td>Train/20/00020_00000_00000.png</td>\n",
       "    </tr>\n",
       "    <tr>\n",
       "      <th>1</th>\n",
       "      <td>28</td>\n",
       "      <td>27</td>\n",
       "      <td>5</td>\n",
       "      <td>6</td>\n",
       "      <td>23</td>\n",
       "      <td>22</td>\n",
       "      <td>20</td>\n",
       "      <td>Train/20/00020_00000_00001.png</td>\n",
       "    </tr>\n",
       "    <tr>\n",
       "      <th>2</th>\n",
       "      <td>29</td>\n",
       "      <td>26</td>\n",
       "      <td>6</td>\n",
       "      <td>5</td>\n",
       "      <td>24</td>\n",
       "      <td>21</td>\n",
       "      <td>20</td>\n",
       "      <td>Train/20/00020_00000_00002.png</td>\n",
       "    </tr>\n",
       "    <tr>\n",
       "      <th>3</th>\n",
       "      <td>28</td>\n",
       "      <td>27</td>\n",
       "      <td>5</td>\n",
       "      <td>6</td>\n",
       "      <td>23</td>\n",
       "      <td>22</td>\n",
       "      <td>20</td>\n",
       "      <td>Train/20/00020_00000_00003.png</td>\n",
       "    </tr>\n",
       "    <tr>\n",
       "      <th>4</th>\n",
       "      <td>28</td>\n",
       "      <td>26</td>\n",
       "      <td>5</td>\n",
       "      <td>5</td>\n",
       "      <td>23</td>\n",
       "      <td>21</td>\n",
       "      <td>20</td>\n",
       "      <td>Train/20/00020_00000_00004.png</td>\n",
       "    </tr>\n",
       "    <tr>\n",
       "      <th>...</th>\n",
       "      <td>...</td>\n",
       "      <td>...</td>\n",
       "      <td>...</td>\n",
       "      <td>...</td>\n",
       "      <td>...</td>\n",
       "      <td>...</td>\n",
       "      <td>...</td>\n",
       "      <td>...</td>\n",
       "    </tr>\n",
       "    <tr>\n",
       "      <th>39204</th>\n",
       "      <td>52</td>\n",
       "      <td>56</td>\n",
       "      <td>5</td>\n",
       "      <td>6</td>\n",
       "      <td>47</td>\n",
       "      <td>51</td>\n",
       "      <td>42</td>\n",
       "      <td>Train/42/00042_00007_00025.png</td>\n",
       "    </tr>\n",
       "    <tr>\n",
       "      <th>39205</th>\n",
       "      <td>56</td>\n",
       "      <td>58</td>\n",
       "      <td>5</td>\n",
       "      <td>5</td>\n",
       "      <td>51</td>\n",
       "      <td>53</td>\n",
       "      <td>42</td>\n",
       "      <td>Train/42/00042_00007_00026.png</td>\n",
       "    </tr>\n",
       "    <tr>\n",
       "      <th>39206</th>\n",
       "      <td>58</td>\n",
       "      <td>62</td>\n",
       "      <td>5</td>\n",
       "      <td>6</td>\n",
       "      <td>53</td>\n",
       "      <td>57</td>\n",
       "      <td>42</td>\n",
       "      <td>Train/42/00042_00007_00027.png</td>\n",
       "    </tr>\n",
       "    <tr>\n",
       "      <th>39207</th>\n",
       "      <td>63</td>\n",
       "      <td>69</td>\n",
       "      <td>5</td>\n",
       "      <td>7</td>\n",
       "      <td>58</td>\n",
       "      <td>63</td>\n",
       "      <td>42</td>\n",
       "      <td>Train/42/00042_00007_00028.png</td>\n",
       "    </tr>\n",
       "    <tr>\n",
       "      <th>39208</th>\n",
       "      <td>68</td>\n",
       "      <td>69</td>\n",
       "      <td>7</td>\n",
       "      <td>6</td>\n",
       "      <td>62</td>\n",
       "      <td>63</td>\n",
       "      <td>42</td>\n",
       "      <td>Train/42/00042_00007_00029.png</td>\n",
       "    </tr>\n",
       "  </tbody>\n",
       "</table>\n",
       "<p>39209 rows × 8 columns</p>\n",
       "</div>"
      ],
      "text/plain": [
       "       Width  Height  Roi.X1  Roi.Y1  Roi.X2  Roi.Y2  ClassId  \\\n",
       "0         27      26       5       5      22      20       20   \n",
       "1         28      27       5       6      23      22       20   \n",
       "2         29      26       6       5      24      21       20   \n",
       "3         28      27       5       6      23      22       20   \n",
       "4         28      26       5       5      23      21       20   \n",
       "...      ...     ...     ...     ...     ...     ...      ...   \n",
       "39204     52      56       5       6      47      51       42   \n",
       "39205     56      58       5       5      51      53       42   \n",
       "39206     58      62       5       6      53      57       42   \n",
       "39207     63      69       5       7      58      63       42   \n",
       "39208     68      69       7       6      62      63       42   \n",
       "\n",
       "                                 Path  \n",
       "0      Train/20/00020_00000_00000.png  \n",
       "1      Train/20/00020_00000_00001.png  \n",
       "2      Train/20/00020_00000_00002.png  \n",
       "3      Train/20/00020_00000_00003.png  \n",
       "4      Train/20/00020_00000_00004.png  \n",
       "...                               ...  \n",
       "39204  Train/42/00042_00007_00025.png  \n",
       "39205  Train/42/00042_00007_00026.png  \n",
       "39206  Train/42/00042_00007_00027.png  \n",
       "39207  Train/42/00042_00007_00028.png  \n",
       "39208  Train/42/00042_00007_00029.png  \n",
       "\n",
       "[39209 rows x 8 columns]"
      ]
     },
     "execution_count": 6,
     "metadata": {},
     "output_type": "execute_result"
    }
   ],
   "source": [
    "#visualtion du fichier train\n",
    "train_csv\n",
    "\n"
   ]
  },
  {
   "cell_type": "markdown",
   "metadata": {},
   "source": [
    "Nous constatons que nous avons 39 209 données"
   ]
  },
  {
   "cell_type": "code",
   "execution_count": 7,
   "metadata": {},
   "outputs": [
    {
     "data": {
      "text/plain": [
       "2     2250\n",
       "1     2220\n",
       "13    2160\n",
       "12    2100\n",
       "38    2070\n",
       "10    2010\n",
       "4     1980\n",
       "5     1860\n",
       "25    1500\n",
       "9     1470\n",
       "7     1440\n",
       "8     1410\n",
       "3     1410\n",
       "11    1320\n",
       "18    1200\n",
       "35    1200\n",
       "17    1110\n",
       "31     780\n",
       "14     780\n",
       "33     689\n",
       "15     630\n",
       "26     600\n",
       "28     540\n",
       "23     510\n",
       "30     450\n",
       "34     420\n",
       "6      420\n",
       "16     420\n",
       "22     390\n",
       "36     390\n",
       "40     360\n",
       "20     360\n",
       "21     330\n",
       "39     300\n",
       "24     270\n",
       "29     270\n",
       "32     240\n",
       "42     240\n",
       "41     240\n",
       "27     240\n",
       "37     210\n",
       "19     210\n",
       "0      210\n",
       "Name: ClassId, dtype: int64"
      ]
     },
     "execution_count": 7,
     "metadata": {},
     "output_type": "execute_result"
    }
   ],
   "source": [
    "#nombre d'images par classe dans le fichier train\n",
    "train_csv[train_csv.columns[6]].value_counts()"
   ]
  },
  {
   "cell_type": "code",
   "execution_count": 8,
   "metadata": {},
   "outputs": [
    {
     "data": {
      "text/html": [
       "<div>\n",
       "<style scoped>\n",
       "    .dataframe tbody tr th:only-of-type {\n",
       "        vertical-align: middle;\n",
       "    }\n",
       "\n",
       "    .dataframe tbody tr th {\n",
       "        vertical-align: top;\n",
       "    }\n",
       "\n",
       "    .dataframe thead th {\n",
       "        text-align: right;\n",
       "    }\n",
       "</style>\n",
       "<table border=\"1\" class=\"dataframe\">\n",
       "  <thead>\n",
       "    <tr style=\"text-align: right;\">\n",
       "      <th></th>\n",
       "      <th>Width</th>\n",
       "      <th>Height</th>\n",
       "      <th>Roi.X1</th>\n",
       "      <th>Roi.Y1</th>\n",
       "      <th>Roi.X2</th>\n",
       "      <th>Roi.Y2</th>\n",
       "      <th>ClassId</th>\n",
       "      <th>Path</th>\n",
       "    </tr>\n",
       "  </thead>\n",
       "  <tbody>\n",
       "    <tr>\n",
       "      <th>0</th>\n",
       "      <td>53</td>\n",
       "      <td>54</td>\n",
       "      <td>6</td>\n",
       "      <td>5</td>\n",
       "      <td>48</td>\n",
       "      <td>49</td>\n",
       "      <td>16</td>\n",
       "      <td>Test/00000.png</td>\n",
       "    </tr>\n",
       "    <tr>\n",
       "      <th>1</th>\n",
       "      <td>42</td>\n",
       "      <td>45</td>\n",
       "      <td>5</td>\n",
       "      <td>5</td>\n",
       "      <td>36</td>\n",
       "      <td>40</td>\n",
       "      <td>1</td>\n",
       "      <td>Test/00001.png</td>\n",
       "    </tr>\n",
       "    <tr>\n",
       "      <th>2</th>\n",
       "      <td>48</td>\n",
       "      <td>52</td>\n",
       "      <td>6</td>\n",
       "      <td>6</td>\n",
       "      <td>43</td>\n",
       "      <td>47</td>\n",
       "      <td>38</td>\n",
       "      <td>Test/00002.png</td>\n",
       "    </tr>\n",
       "    <tr>\n",
       "      <th>3</th>\n",
       "      <td>27</td>\n",
       "      <td>29</td>\n",
       "      <td>5</td>\n",
       "      <td>5</td>\n",
       "      <td>22</td>\n",
       "      <td>24</td>\n",
       "      <td>33</td>\n",
       "      <td>Test/00003.png</td>\n",
       "    </tr>\n",
       "    <tr>\n",
       "      <th>4</th>\n",
       "      <td>60</td>\n",
       "      <td>57</td>\n",
       "      <td>5</td>\n",
       "      <td>5</td>\n",
       "      <td>55</td>\n",
       "      <td>52</td>\n",
       "      <td>11</td>\n",
       "      <td>Test/00004.png</td>\n",
       "    </tr>\n",
       "    <tr>\n",
       "      <th>...</th>\n",
       "      <td>...</td>\n",
       "      <td>...</td>\n",
       "      <td>...</td>\n",
       "      <td>...</td>\n",
       "      <td>...</td>\n",
       "      <td>...</td>\n",
       "      <td>...</td>\n",
       "      <td>...</td>\n",
       "    </tr>\n",
       "    <tr>\n",
       "      <th>12625</th>\n",
       "      <td>42</td>\n",
       "      <td>41</td>\n",
       "      <td>5</td>\n",
       "      <td>6</td>\n",
       "      <td>37</td>\n",
       "      <td>36</td>\n",
       "      <td>12</td>\n",
       "      <td>Test/12625.png</td>\n",
       "    </tr>\n",
       "    <tr>\n",
       "      <th>12626</th>\n",
       "      <td>50</td>\n",
       "      <td>51</td>\n",
       "      <td>6</td>\n",
       "      <td>5</td>\n",
       "      <td>45</td>\n",
       "      <td>46</td>\n",
       "      <td>33</td>\n",
       "      <td>Test/12626.png</td>\n",
       "    </tr>\n",
       "    <tr>\n",
       "      <th>12627</th>\n",
       "      <td>29</td>\n",
       "      <td>29</td>\n",
       "      <td>6</td>\n",
       "      <td>6</td>\n",
       "      <td>24</td>\n",
       "      <td>24</td>\n",
       "      <td>6</td>\n",
       "      <td>Test/12627.png</td>\n",
       "    </tr>\n",
       "    <tr>\n",
       "      <th>12628</th>\n",
       "      <td>48</td>\n",
       "      <td>49</td>\n",
       "      <td>5</td>\n",
       "      <td>6</td>\n",
       "      <td>43</td>\n",
       "      <td>44</td>\n",
       "      <td>7</td>\n",
       "      <td>Test/12628.png</td>\n",
       "    </tr>\n",
       "    <tr>\n",
       "      <th>12629</th>\n",
       "      <td>32</td>\n",
       "      <td>31</td>\n",
       "      <td>6</td>\n",
       "      <td>5</td>\n",
       "      <td>27</td>\n",
       "      <td>26</td>\n",
       "      <td>10</td>\n",
       "      <td>Test/12629.png</td>\n",
       "    </tr>\n",
       "  </tbody>\n",
       "</table>\n",
       "<p>12630 rows × 8 columns</p>\n",
       "</div>"
      ],
      "text/plain": [
       "       Width  Height  Roi.X1  Roi.Y1  Roi.X2  Roi.Y2  ClassId            Path\n",
       "0         53      54       6       5      48      49       16  Test/00000.png\n",
       "1         42      45       5       5      36      40        1  Test/00001.png\n",
       "2         48      52       6       6      43      47       38  Test/00002.png\n",
       "3         27      29       5       5      22      24       33  Test/00003.png\n",
       "4         60      57       5       5      55      52       11  Test/00004.png\n",
       "...      ...     ...     ...     ...     ...     ...      ...             ...\n",
       "12625     42      41       5       6      37      36       12  Test/12625.png\n",
       "12626     50      51       6       5      45      46       33  Test/12626.png\n",
       "12627     29      29       6       6      24      24        6  Test/12627.png\n",
       "12628     48      49       5       6      43      44        7  Test/12628.png\n",
       "12629     32      31       6       5      27      26       10  Test/12629.png\n",
       "\n",
       "[12630 rows x 8 columns]"
      ]
     },
     "execution_count": 8,
     "metadata": {},
     "output_type": "execute_result"
    }
   ],
   "source": [
    "#visualtion du fichier test\n",
    "test_csv\n"
   ]
  },
  {
   "cell_type": "code",
   "execution_count": 9,
   "metadata": {},
   "outputs": [
    {
     "data": {
      "text/html": [
       "<div>\n",
       "<style scoped>\n",
       "    .dataframe tbody tr th:only-of-type {\n",
       "        vertical-align: middle;\n",
       "    }\n",
       "\n",
       "    .dataframe tbody tr th {\n",
       "        vertical-align: top;\n",
       "    }\n",
       "\n",
       "    .dataframe thead th {\n",
       "        text-align: right;\n",
       "    }\n",
       "</style>\n",
       "<table border=\"1\" class=\"dataframe\">\n",
       "  <thead>\n",
       "    <tr style=\"text-align: right;\">\n",
       "      <th></th>\n",
       "      <th>Path</th>\n",
       "      <th>ClassId</th>\n",
       "      <th>ShapeId</th>\n",
       "      <th>ColorId</th>\n",
       "      <th>SignId</th>\n",
       "    </tr>\n",
       "  </thead>\n",
       "  <tbody>\n",
       "    <tr>\n",
       "      <th>0</th>\n",
       "      <td>Meta/27.png</td>\n",
       "      <td>27</td>\n",
       "      <td>0</td>\n",
       "      <td>0</td>\n",
       "      <td>1.32</td>\n",
       "    </tr>\n",
       "    <tr>\n",
       "      <th>1</th>\n",
       "      <td>Meta/0.png</td>\n",
       "      <td>0</td>\n",
       "      <td>1</td>\n",
       "      <td>0</td>\n",
       "      <td>3.29</td>\n",
       "    </tr>\n",
       "    <tr>\n",
       "      <th>2</th>\n",
       "      <td>Meta/1.png</td>\n",
       "      <td>1</td>\n",
       "      <td>1</td>\n",
       "      <td>0</td>\n",
       "      <td>3.29</td>\n",
       "    </tr>\n",
       "    <tr>\n",
       "      <th>3</th>\n",
       "      <td>Meta/10.png</td>\n",
       "      <td>10</td>\n",
       "      <td>1</td>\n",
       "      <td>0</td>\n",
       "      <td>3.27</td>\n",
       "    </tr>\n",
       "    <tr>\n",
       "      <th>4</th>\n",
       "      <td>Meta/11.png</td>\n",
       "      <td>11</td>\n",
       "      <td>0</td>\n",
       "      <td>0</td>\n",
       "      <td>1.22</td>\n",
       "    </tr>\n",
       "    <tr>\n",
       "      <th>5</th>\n",
       "      <td>Meta/12.png</td>\n",
       "      <td>12</td>\n",
       "      <td>2</td>\n",
       "      <td>2</td>\n",
       "      <td>2.3</td>\n",
       "    </tr>\n",
       "    <tr>\n",
       "      <th>6</th>\n",
       "      <td>Meta/13.png</td>\n",
       "      <td>13</td>\n",
       "      <td>4</td>\n",
       "      <td>0</td>\n",
       "      <td>2.1</td>\n",
       "    </tr>\n",
       "    <tr>\n",
       "      <th>7</th>\n",
       "      <td>Meta/14.png</td>\n",
       "      <td>14</td>\n",
       "      <td>3</td>\n",
       "      <td>0</td>\n",
       "      <td>2.2</td>\n",
       "    </tr>\n",
       "    <tr>\n",
       "      <th>8</th>\n",
       "      <td>Meta/15.png</td>\n",
       "      <td>15</td>\n",
       "      <td>1</td>\n",
       "      <td>0</td>\n",
       "      <td>3.1</td>\n",
       "    </tr>\n",
       "    <tr>\n",
       "      <th>9</th>\n",
       "      <td>Meta/16.png</td>\n",
       "      <td>16</td>\n",
       "      <td>1</td>\n",
       "      <td>0</td>\n",
       "      <td>3.3</td>\n",
       "    </tr>\n",
       "    <tr>\n",
       "      <th>10</th>\n",
       "      <td>Meta/17.png</td>\n",
       "      <td>17</td>\n",
       "      <td>1</td>\n",
       "      <td>0</td>\n",
       "      <td>3.21</td>\n",
       "    </tr>\n",
       "    <tr>\n",
       "      <th>11</th>\n",
       "      <td>Meta/18.png</td>\n",
       "      <td>18</td>\n",
       "      <td>0</td>\n",
       "      <td>0</td>\n",
       "      <td>1.39</td>\n",
       "    </tr>\n",
       "    <tr>\n",
       "      <th>12</th>\n",
       "      <td>Meta/19.png</td>\n",
       "      <td>19</td>\n",
       "      <td>0</td>\n",
       "      <td>0</td>\n",
       "      <td>1.2</td>\n",
       "    </tr>\n",
       "    <tr>\n",
       "      <th>13</th>\n",
       "      <td>Meta/2.png</td>\n",
       "      <td>2</td>\n",
       "      <td>1</td>\n",
       "      <td>0</td>\n",
       "      <td>3.29</td>\n",
       "    </tr>\n",
       "    <tr>\n",
       "      <th>14</th>\n",
       "      <td>Meta/20.png</td>\n",
       "      <td>20</td>\n",
       "      <td>0</td>\n",
       "      <td>0</td>\n",
       "      <td>1.1</td>\n",
       "    </tr>\n",
       "    <tr>\n",
       "      <th>15</th>\n",
       "      <td>Meta/21.png</td>\n",
       "      <td>21</td>\n",
       "      <td>0</td>\n",
       "      <td>0</td>\n",
       "      <td>1.3.2</td>\n",
       "    </tr>\n",
       "    <tr>\n",
       "      <th>16</th>\n",
       "      <td>Meta/22.png</td>\n",
       "      <td>22</td>\n",
       "      <td>0</td>\n",
       "      <td>0</td>\n",
       "      <td>1.1</td>\n",
       "    </tr>\n",
       "    <tr>\n",
       "      <th>17</th>\n",
       "      <td>Meta/23.png</td>\n",
       "      <td>23</td>\n",
       "      <td>0</td>\n",
       "      <td>0</td>\n",
       "      <td>1.13</td>\n",
       "    </tr>\n",
       "    <tr>\n",
       "      <th>18</th>\n",
       "      <td>Meta/24.png</td>\n",
       "      <td>24</td>\n",
       "      <td>0</td>\n",
       "      <td>0</td>\n",
       "      <td>1.5.2</td>\n",
       "    </tr>\n",
       "    <tr>\n",
       "      <th>19</th>\n",
       "      <td>Meta/25.png</td>\n",
       "      <td>25</td>\n",
       "      <td>0</td>\n",
       "      <td>0</td>\n",
       "      <td>1.37</td>\n",
       "    </tr>\n",
       "    <tr>\n",
       "      <th>20</th>\n",
       "      <td>Meta/26.png</td>\n",
       "      <td>26</td>\n",
       "      <td>0</td>\n",
       "      <td>0</td>\n",
       "      <td>1.24</td>\n",
       "    </tr>\n",
       "    <tr>\n",
       "      <th>21</th>\n",
       "      <td>Meta/28.png</td>\n",
       "      <td>28</td>\n",
       "      <td>0</td>\n",
       "      <td>0</td>\n",
       "      <td>1.33</td>\n",
       "    </tr>\n",
       "    <tr>\n",
       "      <th>22</th>\n",
       "      <td>Meta/29.png</td>\n",
       "      <td>29</td>\n",
       "      <td>0</td>\n",
       "      <td>0</td>\n",
       "      <td>1.34</td>\n",
       "    </tr>\n",
       "    <tr>\n",
       "      <th>23</th>\n",
       "      <td>Meta/3.png</td>\n",
       "      <td>3</td>\n",
       "      <td>1</td>\n",
       "      <td>0</td>\n",
       "      <td>3.29</td>\n",
       "    </tr>\n",
       "    <tr>\n",
       "      <th>24</th>\n",
       "      <td>Meta/30.png</td>\n",
       "      <td>30</td>\n",
       "      <td>0</td>\n",
       "      <td>0</td>\n",
       "      <td>None</td>\n",
       "    </tr>\n",
       "    <tr>\n",
       "      <th>25</th>\n",
       "      <td>Meta/31.png</td>\n",
       "      <td>31</td>\n",
       "      <td>0</td>\n",
       "      <td>0</td>\n",
       "      <td>1.36</td>\n",
       "    </tr>\n",
       "    <tr>\n",
       "      <th>26</th>\n",
       "      <td>Meta/32.png</td>\n",
       "      <td>32</td>\n",
       "      <td>1</td>\n",
       "      <td>3</td>\n",
       "      <td>3.42</td>\n",
       "    </tr>\n",
       "    <tr>\n",
       "      <th>27</th>\n",
       "      <td>Meta/33.png</td>\n",
       "      <td>33</td>\n",
       "      <td>1</td>\n",
       "      <td>1</td>\n",
       "      <td>4.2</td>\n",
       "    </tr>\n",
       "    <tr>\n",
       "      <th>28</th>\n",
       "      <td>Meta/34.png</td>\n",
       "      <td>34</td>\n",
       "      <td>1</td>\n",
       "      <td>1</td>\n",
       "      <td>4.3</td>\n",
       "    </tr>\n",
       "    <tr>\n",
       "      <th>29</th>\n",
       "      <td>Meta/35.png</td>\n",
       "      <td>35</td>\n",
       "      <td>1</td>\n",
       "      <td>1</td>\n",
       "      <td>4.1</td>\n",
       "    </tr>\n",
       "    <tr>\n",
       "      <th>30</th>\n",
       "      <td>Meta/36.png</td>\n",
       "      <td>36</td>\n",
       "      <td>1</td>\n",
       "      <td>1</td>\n",
       "      <td>4.4</td>\n",
       "    </tr>\n",
       "    <tr>\n",
       "      <th>31</th>\n",
       "      <td>Meta/37.png</td>\n",
       "      <td>37</td>\n",
       "      <td>1</td>\n",
       "      <td>1</td>\n",
       "      <td>4.5</td>\n",
       "    </tr>\n",
       "    <tr>\n",
       "      <th>32</th>\n",
       "      <td>Meta/38.png</td>\n",
       "      <td>38</td>\n",
       "      <td>1</td>\n",
       "      <td>1</td>\n",
       "      <td>4.7</td>\n",
       "    </tr>\n",
       "    <tr>\n",
       "      <th>33</th>\n",
       "      <td>Meta/39.png</td>\n",
       "      <td>39</td>\n",
       "      <td>1</td>\n",
       "      <td>1</td>\n",
       "      <td>4.8</td>\n",
       "    </tr>\n",
       "    <tr>\n",
       "      <th>34</th>\n",
       "      <td>Meta/4.png</td>\n",
       "      <td>4</td>\n",
       "      <td>1</td>\n",
       "      <td>0</td>\n",
       "      <td>3.29</td>\n",
       "    </tr>\n",
       "    <tr>\n",
       "      <th>35</th>\n",
       "      <td>Meta/40.png</td>\n",
       "      <td>40</td>\n",
       "      <td>1</td>\n",
       "      <td>1</td>\n",
       "      <td>4.1</td>\n",
       "    </tr>\n",
       "    <tr>\n",
       "      <th>36</th>\n",
       "      <td>Meta/41.png</td>\n",
       "      <td>41</td>\n",
       "      <td>1</td>\n",
       "      <td>3</td>\n",
       "      <td>3.26</td>\n",
       "    </tr>\n",
       "    <tr>\n",
       "      <th>37</th>\n",
       "      <td>Meta/42.png</td>\n",
       "      <td>42</td>\n",
       "      <td>1</td>\n",
       "      <td>3</td>\n",
       "      <td>3.28</td>\n",
       "    </tr>\n",
       "    <tr>\n",
       "      <th>38</th>\n",
       "      <td>Meta/5.png</td>\n",
       "      <td>5</td>\n",
       "      <td>1</td>\n",
       "      <td>0</td>\n",
       "      <td>3.29</td>\n",
       "    </tr>\n",
       "    <tr>\n",
       "      <th>39</th>\n",
       "      <td>Meta/6.png</td>\n",
       "      <td>6</td>\n",
       "      <td>1</td>\n",
       "      <td>3</td>\n",
       "      <td>3.3</td>\n",
       "    </tr>\n",
       "    <tr>\n",
       "      <th>40</th>\n",
       "      <td>Meta/7.png</td>\n",
       "      <td>7</td>\n",
       "      <td>1</td>\n",
       "      <td>0</td>\n",
       "      <td>3.29</td>\n",
       "    </tr>\n",
       "    <tr>\n",
       "      <th>41</th>\n",
       "      <td>Meta/8.png</td>\n",
       "      <td>8</td>\n",
       "      <td>1</td>\n",
       "      <td>0</td>\n",
       "      <td>3.29</td>\n",
       "    </tr>\n",
       "    <tr>\n",
       "      <th>42</th>\n",
       "      <td>Meta/9.png</td>\n",
       "      <td>9</td>\n",
       "      <td>1</td>\n",
       "      <td>0</td>\n",
       "      <td>3.25</td>\n",
       "    </tr>\n",
       "  </tbody>\n",
       "</table>\n",
       "</div>"
      ],
      "text/plain": [
       "           Path  ClassId  ShapeId  ColorId SignId\n",
       "0   Meta/27.png       27        0        0   1.32\n",
       "1    Meta/0.png        0        1        0   3.29\n",
       "2    Meta/1.png        1        1        0   3.29\n",
       "3   Meta/10.png       10        1        0   3.27\n",
       "4   Meta/11.png       11        0        0   1.22\n",
       "5   Meta/12.png       12        2        2    2.3\n",
       "6   Meta/13.png       13        4        0    2.1\n",
       "7   Meta/14.png       14        3        0    2.2\n",
       "8   Meta/15.png       15        1        0    3.1\n",
       "9   Meta/16.png       16        1        0    3.3\n",
       "10  Meta/17.png       17        1        0   3.21\n",
       "11  Meta/18.png       18        0        0   1.39\n",
       "12  Meta/19.png       19        0        0    1.2\n",
       "13   Meta/2.png        2        1        0   3.29\n",
       "14  Meta/20.png       20        0        0    1.1\n",
       "15  Meta/21.png       21        0        0  1.3.2\n",
       "16  Meta/22.png       22        0        0    1.1\n",
       "17  Meta/23.png       23        0        0   1.13\n",
       "18  Meta/24.png       24        0        0  1.5.2\n",
       "19  Meta/25.png       25        0        0   1.37\n",
       "20  Meta/26.png       26        0        0   1.24\n",
       "21  Meta/28.png       28        0        0   1.33\n",
       "22  Meta/29.png       29        0        0   1.34\n",
       "23   Meta/3.png        3        1        0   3.29\n",
       "24  Meta/30.png       30        0        0   None\n",
       "25  Meta/31.png       31        0        0   1.36\n",
       "26  Meta/32.png       32        1        3   3.42\n",
       "27  Meta/33.png       33        1        1    4.2\n",
       "28  Meta/34.png       34        1        1    4.3\n",
       "29  Meta/35.png       35        1        1    4.1\n",
       "30  Meta/36.png       36        1        1    4.4\n",
       "31  Meta/37.png       37        1        1    4.5\n",
       "32  Meta/38.png       38        1        1    4.7\n",
       "33  Meta/39.png       39        1        1    4.8\n",
       "34   Meta/4.png        4        1        0   3.29\n",
       "35  Meta/40.png       40        1        1    4.1\n",
       "36  Meta/41.png       41        1        3   3.26\n",
       "37  Meta/42.png       42        1        3   3.28\n",
       "38   Meta/5.png        5        1        0   3.29\n",
       "39   Meta/6.png        6        1        3    3.3\n",
       "40   Meta/7.png        7        1        0   3.29\n",
       "41   Meta/8.png        8        1        0   3.29\n",
       "42   Meta/9.png        9        1        0   3.25"
      ]
     },
     "execution_count": 9,
     "metadata": {},
     "output_type": "execute_result"
    }
   ],
   "source": [
    "#visualtion du fichier mata\n",
    "meta_csv"
   ]
  },
  {
   "cell_type": "markdown",
   "metadata": {},
   "source": [
    "## Récupération des images et de leurs étiquettes"
   ]
  },
  {
   "cell_type": "code",
   "execution_count": 11,
   "metadata": {},
   "outputs": [],
   "source": [
    "data = []\n",
    "labels = []\n",
    "classes = 43\n",
    "cur_path = os.getcwd()\n",
    "\n",
    "#Retrieving the images and their labels \n",
    "for i in range(classes):\n",
    "    path = os.path.join(cur_path,'train',str(i))\n",
    "    images = os.listdir(path)\n",
    "\n",
    "    for a in images:\n",
    "        try:\n",
    "            image = Image.open(path + '\\\\'+ a)\n",
    "            image = image.resize((30,30))\n",
    "            image = np.array(image)\n",
    "            #sim = Image.fromarray(image)\n",
    "            data.append(image)\n",
    "            labels.append(i)\n",
    "        except:\n",
    "            print(\"Error loading image\")"
   ]
  },
  {
   "cell_type": "markdown",
   "metadata": {},
   "source": [
    "Nous avons stocké toutes les images et leurs étiquettes dans des listes (données et étiquettes).\n",
    "\n",
    "Nous convertissons la liste en tableaux numpy pour alimenter le modèle.\n",
    "\n"
   ]
  },
  {
   "cell_type": "code",
   "execution_count": 12,
   "metadata": {},
   "outputs": [
    {
     "name": "stdout",
     "output_type": "stream",
     "text": [
      "(39209, 30, 30, 3) (39209,)\n"
     ]
    }
   ],
   "source": [
    "data = np.array(data)\n",
    "labels = np.array(labels)\n",
    "\n",
    "print(data.shape, labels.shape)"
   ]
  },
  {
   "cell_type": "markdown",
   "metadata": {},
   "source": [
    "La forme des données est (39209, 30, 30, 3) ce qui signifie qu'il y a 39.209 images de taille 30 × 30 pixels et le 3  signifie que les données contiennent des images colorées (valeur RVB)."
   ]
  },
  {
   "cell_type": "markdown",
   "metadata": {},
   "source": [
    "Avec le package sklearn, nous utilisons la méthode train_test_split () pour fractionner les données d'entraînement et de test.\n",
    "\n"
   ]
  },
  {
   "cell_type": "code",
   "execution_count": 13,
   "metadata": {},
   "outputs": [
    {
     "name": "stdout",
     "output_type": "stream",
     "text": [
      "(31367, 30, 30, 3) (7842, 30, 30, 3) (31367,) (7842,)\n"
     ]
    }
   ],
   "source": [
    "#fractionnement du jeu de donnees\n",
    "X_train, X_test, y_train, y_test = train_test_split(data, labels, test_size=0.2, random_state=42)\n",
    "print(X_train.shape, X_test.shape, y_train.shape, y_test.shape)\n"
   ]
  },
  {
   "cell_type": "markdown",
   "metadata": {},
   "source": [
    "Notre jeu de données comprend donc 31 367 images couleurs 30x30 pixels et notre jeu test 7 842 images couleurs de 30x30 pixels"
   ]
  },
  {
   "cell_type": "markdown",
   "metadata": {},
   "source": [
    "À partir du package keras.utils, nous utilisons la méthode to_categorical pour convertir les étiquettes présentes dans y_train et t_test en un encodage."
   ]
  },
  {
   "cell_type": "code",
   "execution_count": 14,
   "metadata": {},
   "outputs": [],
   "source": [
    "#converion des étiquettes\n",
    "y_train = to_categorical(y_train, 43)\n",
    "y_test = to_categorical(y_test, 43)"
   ]
  },
  {
   "cell_type": "markdown",
   "metadata": {},
   "source": [
    "# Construction du modèle CNN (Convolutional Neural Network)"
   ]
  },
  {
   "cell_type": "markdown",
   "metadata": {},
   "source": [
    "Pour classer les images dans leurs catégories respectives, nous allons construire un modèle CNN . CNN est le meilleur à des fins de classification d'images."
   ]
  },
  {
   "cell_type": "markdown",
   "metadata": {},
   "source": [
    "L'architecture de notre modèle est:\n",
    "\n",
    "    - 2 Couches Conv2D (filtre = 32, kernel_size = (5,5), activation = \"relu\")\n",
    "    - Couche MaxPool2D (pool_size = (2,2))\n",
    "    - Couche d'abandon (taux = 0,25)\n",
    "    - 2 Couche Conv2D (filtre = 64, kernel_size = (3,3), activation = \"relu\")\n",
    "    - Couche MaxPool2D (pool_size = (2,2))\n",
    "    - Couche d'abandon (taux = 0,25)\n",
    "    - Aplatir le calque pour presser les calques en 1 dimension\n",
    "    - Couche dense entièrement connectée (256 nœuds, activation = \"relu\")\n",
    "    - Couche d'abandon (taux = 0,5)\n",
    "    - Couche dense (43 nœuds, activation = \"softmax\")\n",
    "\n"
   ]
  },
  {
   "cell_type": "code",
   "execution_count": 15,
   "metadata": {},
   "outputs": [],
   "source": [
    "#construction du modèle :\n",
    "model = Sequential()\n",
    "model.add(Conv2D(filters=32, kernel_size=(5,5), activation='relu', input_shape=X_train.shape[1:]))\n",
    "model.add(Conv2D(filters=32, kernel_size=(5,5), activation='relu'))\n",
    "model.add(MaxPool2D(pool_size=(2, 2)))\n",
    "model.add(Dropout(rate=0.25))\n",
    "model.add(Conv2D(filters=64, kernel_size=(3, 3), activation='relu'))\n",
    "model.add(Conv2D(filters=64, kernel_size=(3, 3), activation='relu'))\n",
    "model.add(MaxPool2D(pool_size=(2, 2)))\n",
    "model.add(Dropout(rate=0.25))\n",
    "model.add(Flatten())\n",
    "model.add(Dense(256, activation='relu'))\n",
    "model.add(Dropout(rate=0.5))\n",
    "model.add(Dense(43, activation='softmax'))\n"
   ]
  },
  {
   "cell_type": "markdown",
   "metadata": {},
   "source": [
    "Nous compilons le modèle avec l'optimiseur Adam qui fonctionne bien et la perte est «categorical_crossentropy» car nous avons plusieurs classes à catégoriser."
   ]
  },
  {
   "cell_type": "code",
   "execution_count": 16,
   "metadata": {},
   "outputs": [],
   "source": [
    "#compilation du modèle:\n",
    "model.compile(loss='categorical_crossentropy', optimizer='adam', metrics=['accuracy'])"
   ]
  },
  {
   "cell_type": "markdown",
   "metadata": {},
   "source": [
    "# Formater et valider le modèle"
   ]
  },
  {
   "cell_type": "markdown",
   "metadata": {},
   "source": [
    "Après avoir construit l'architecture du modèle, nous entraînons le modèle à l'aide de model.fit (). \n",
    "Le modèle fonctionne mieux avec le lot 64 que 32;\n",
    "Et après 15 époques, la précision était stable."
   ]
  },
  {
   "cell_type": "code",
   "execution_count": 17,
   "metadata": {},
   "outputs": [
    {
     "name": "stdout",
     "output_type": "stream",
     "text": [
      "Epoch 1/15\n",
      "491/491 [==============================] - 119s 237ms/step - loss: 3.3595 - accuracy: 0.2976 - val_loss: 0.4179 - val_accuracy: 0.9138\n",
      "Epoch 2/15\n",
      "491/491 [==============================] - 136s 276ms/step - loss: 0.6385 - accuracy: 0.8212 - val_loss: 0.1413 - val_accuracy: 0.9612\n",
      "Epoch 3/15\n",
      "491/491 [==============================] - 117s 237ms/step - loss: 0.3455 - accuracy: 0.9055 - val_loss: 0.0819 - val_accuracy: 0.9777\n",
      "Epoch 4/15\n",
      "491/491 [==============================] - 120s 244ms/step - loss: 0.2422 - accuracy: 0.9320 - val_loss: 0.0678 - val_accuracy: 0.9841\n",
      "Epoch 5/15\n",
      "491/491 [==============================] - 136s 278ms/step - loss: 0.1966 - accuracy: 0.9454 - val_loss: 0.0649 - val_accuracy: 0.9841\n",
      "Epoch 6/15\n",
      "491/491 [==============================] - 124s 253ms/step - loss: 0.1684 - accuracy: 0.9536 - val_loss: 0.0493 - val_accuracy: 0.9871\n",
      "Epoch 7/15\n",
      "491/491 [==============================] - 115s 234ms/step - loss: 0.1631 - accuracy: 0.9579 - val_loss: 0.0395 - val_accuracy: 0.9890\n",
      "Epoch 8/15\n",
      "491/491 [==============================] - 114s 233ms/step - loss: 0.1249 - accuracy: 0.9650 - val_loss: 0.0366 - val_accuracy: 0.9889\n",
      "Epoch 9/15\n",
      "491/491 [==============================] - 112s 228ms/step - loss: 0.1286 - accuracy: 0.9639 - val_loss: 0.0348 - val_accuracy: 0.9908\n",
      "Epoch 10/15\n",
      "491/491 [==============================] - 115s 235ms/step - loss: 0.1578 - accuracy: 0.9604 - val_loss: 0.0355 - val_accuracy: 0.9899\n",
      "Epoch 11/15\n",
      "491/491 [==============================] - 115s 233ms/step - loss: 0.2461 - accuracy: 0.9363 - val_loss: 0.0513 - val_accuracy: 0.9862\n",
      "Epoch 12/15\n",
      "491/491 [==============================] - 114s 231ms/step - loss: 0.1192 - accuracy: 0.9676 - val_loss: 0.0269 - val_accuracy: 0.9934\n",
      "Epoch 13/15\n",
      "491/491 [==============================] - 119s 242ms/step - loss: 0.1234 - accuracy: 0.9663 - val_loss: 0.0306 - val_accuracy: 0.9932\n",
      "Epoch 14/15\n",
      "491/491 [==============================] - 128s 260ms/step - loss: 0.1018 - accuracy: 0.9734 - val_loss: 0.0367 - val_accuracy: 0.9895\n",
      "Epoch 15/15\n",
      "491/491 [==============================] - 125s 255ms/step - loss: 0.1489 - accuracy: 0.9631 - val_loss: 0.0306 - val_accuracy: 0.9921\n"
     ]
    }
   ],
   "source": [
    "epochs = 15\n",
    "history = model.fit(X_train, y_train, batch_size=64, epochs=epochs, validation_data=(X_test, y_test))"
   ]
  },
  {
   "cell_type": "code",
   "execution_count": 18,
   "metadata": {},
   "outputs": [],
   "source": [
    "\n",
    "model.save(\"mymodel.h5\")"
   ]
  },
  {
   "cell_type": "code",
   "execution_count": 19,
   "metadata": {},
   "outputs": [
    {
     "data": {
      "text/plain": [
       "<matplotlib.legend.Legend at 0x1b06748fd90>"
      ]
     },
     "execution_count": 19,
     "metadata": {},
     "output_type": "execute_result"
    },
    {
     "data": {
      "image/png": "[encoded data removed]",
      "text/plain": [
       "<Figure size 432x288 with 1 Axes>"
      ]
     },
     "metadata": {
      "needs_background": "light"
     },
     "output_type": "display_data"
    },
    {
     "data": {
      "image/png": "[encoded data removed]",
      "text/plain": [
       "<Figure size 432x288 with 1 Axes>"
      ]
     },
     "metadata": {
      "needs_background": "light"
     },
     "output_type": "display_data"
    }
   ],
   "source": [
    "plt.figure(0)\n",
    "plt.plot(history.history['accuracy'], label='training accuracy')\n",
    "plt.plot(history.history['val_accuracy'], label='val accuracy')\n",
    "plt.title('Accuracy')\n",
    "plt.xlabel('epochs')\n",
    "plt.ylabel('accuracy')\n",
    "plt.legend()\n",
    "\n",
    "plt.figure(1)\n",
    "plt.plot(history.history['loss'], label='training loss')\n",
    "plt.plot(history.history['val_loss'], label='val loss')\n",
    "plt.title('Loss')\n",
    "plt.xlabel('epochs')\n",
    "plt.ylabel('loss')\n",
    "plt.legend()\n"
   ]
  },
  {
   "cell_type": "code",
   "execution_count": 20,
   "metadata": {},
   "outputs": [],
   "source": [
    "# Tester notre modèle avec le test dataser"
   ]
  },
  {
   "cell_type": "markdown",
   "metadata": {},
   "source": [
    "Notre ensemble de données contient un dossier de test et dans un fichier test.csv, nous avons les détails liés au chemin de l'image et à leurs étiquettes de classe respectives. Nous extrayons le chemin de l'image et les étiquettes à l'aide de pandas. Ensuite, pour prédire le modèle, nous devons redimensionner nos images à 30 × 30 pixels et créer un tableau numpy contenant toutes les données d'image. À partir de sklearn.metrics, nous avons importé le precision_score et observé comment notre modèle prédisait les étiquettes réelles. Nous avons atteint une précision de 95% dans ce modèle."
   ]
  },
  {
   "cell_type": "code",
   "execution_count": 21,
   "metadata": {},
   "outputs": [
    {
     "name": "stderr",
     "output_type": "stream",
     "text": [
      "C:\\Users\\utilisateur\\anaconda3\\lib\\site-packages\\tensorflow\\python\\keras\\engine\\sequential.py:450: UserWarning: `model.predict_classes()` is deprecated and will be removed after 2021-01-01. Please use instead:* `np.argmax(model.predict(x), axis=-1)`,   if your model does multi-class classification   (e.g. if it uses a `softmax` last-layer activation).* `(model.predict(x) > 0.5).astype(\"int32\")`,   if your model does binary classification   (e.g. if it uses a `sigmoid` last-layer activation).\n",
      "  warnings.warn('`model.predict_classes()` is deprecated and '\n"
     ]
    }
   ],
   "source": [
    "y_test = pd.read_csv('Test.csv')\n",
    "\n",
    "labels = y_test[\"ClassId\"].values\n",
    "imgs = y_test[\"Path\"].values\n",
    "\n",
    "data=[]\n",
    "for img in imgs:\n",
    "    image = Image.open(img)\n",
    "    image = image.resize((30,30))\n",
    "    data.append(np.array(image))\n",
    "    \n",
    "X_test=np.array(data)\n",
    "\n",
    "pred = model.predict_classes(X_test)"
   ]
  },
  {
   "cell_type": "code",
   "execution_count": 22,
   "metadata": {},
   "outputs": [
    {
     "data": {
      "text/plain": [
       "0.9663499604117182"
      ]
     },
     "execution_count": 22,
     "metadata": {},
     "output_type": "execute_result"
    }
   ],
   "source": [
    "#accuracy avec la donnée test\n",
    "accuracy_score(labels, pred)"
   ]
  },
  {
   "cell_type": "markdown",
   "metadata": {},
   "source": [
    "Avec une accuracy à 96.6%, nous vous pouvons dire que notre système est plutôt performant."
   ]
  },
  {
   "cell_type": "code",
   "execution_count": 23,
   "metadata": {},
   "outputs": [],
   "source": [
    "#on enregistre le modèle que nous avons entrainé en utiliser la fonction Keras model.save()\n",
    "model.save('traffic_classifier.h5')"
   ]
  },
  {
   "cell_type": "markdown",
   "metadata": {},
   "source": [
    "# Interface graphique du classificateur des panneaux de signalisation"
   ]
  },
  {
   "cell_type": "markdown",
   "metadata": {},
   "source": [
    "Nous allons maintenant créer une interface utilisateur graphique pour notre classificateur de panneaux de signalisation avec Tkinter. Tkinter est une boîte à outils d'interface graphique dans la bibliothèque python standard.\n",
    "\n",
    "Dans ce fichier, nous avons d’abord chargé le modèle entraîné ‘traffic_classifier.h5’ à l’aide de Keras.\n",
    "\n",
    "Et puis nous construisons l'interface graphique pour télécharger l'image et un bouton est utilisé pour classifier qui appelle la fonction classify (). \n",
    "La fonction classify () convertit l'image en dimension de forme (1, 30, 30, 3). \n",
    "En effet, pour prédire le panneau de signalisation, nous devons fournir la même dimension que nous avons utilisée lors de la construction du modèle. \n",
    "Ensuite, nous prédisons la classe, le model.predict_classes (image) nous renvoie un nombre c qui représente la classe à laquelle il appartient. Nous utilisons le dictionnaire pour obtenir les informations sur la classe."
   ]
  },
  {
   "cell_type": "code",
   "execution_count": 37,
   "metadata": {},
   "outputs": [],
   "source": [
    "# Import des librairies\n",
    "import tkinter as tk\n",
    "from tkinter import filedialog\n",
    "from tkinter import *\n",
    "from PIL import ImageTk, Image\n",
    "import numpy"
   ]
  },
  {
   "cell_type": "code",
   "execution_count": 38,
   "metadata": {},
   "outputs": [],
   "source": [
    "#Charger notre fichier\n",
    "from keras.models import load_model\n",
    "model = load_model('traffic_classifier.h5')"
   ]
  },
  {
   "cell_type": "code",
   "execution_count": 39,
   "metadata": {},
   "outputs": [],
   "source": [
    "#détail des classes\n",
    "classes = { 1: \"Vitesse limite (20km/h)\", \n",
    "           2: \"Vitesse limite (30km/h)\", \n",
    "           3: \"Vitesse limite (50km/h)\", \n",
    "           4: \"Vitesse limite (60km/h)\", \n",
    "           5: \"Vitesse limite (70km/h)\", \n",
    "           6: \"Vitesse limite (80km/h)\",\n",
    "           7: \"Fin de limite de vitesse (80km/h)\", \n",
    "           8: \"Vitesse limite (120km/h)\", \n",
    "           9: \"Speed limit (120km/h)\",\n",
    "           10: \"Dépassement interdit\", \n",
    "           11: \"Dépassement interdit pour >3.5t\", \n",
    "           12: \"Priorité à droite à l’intersection\",\n",
    "           13: \"Route prioritaire\", \n",
    "           14: \"Cédez le passage\", \n",
    "           15: \"Stop\", \n",
    "           16: \"Interdit aux véhicules\", \n",
    "           17: \"Véhicules >3.5t interdits\",\n",
    "           18: \"Sens interdit\", \n",
    "           19: \"Panneau danger\", \n",
    "           20: \"Virage dangereux à gauche\", \n",
    "           21: \"Virage dangereux à droite\", \n",
    "           22: \"Succession de virages\", \n",
    "           23: \"Cassis ou dos-d’ânes\", \n",
    "           24: \"Route glissante\", \n",
    "           25: \"Chaussée rétrécie par la droite\",\n",
    "           26: \"Travaux\", \n",
    "           27: \"Feux tricolore\", \n",
    "           28: \"Passage piéton\", \n",
    "           29: \"Attention enfants\", \n",
    "           30: \"Attention vélos\",\n",
    "           31: \"Attention neige/verglas\", \n",
    "           32: \"Passage animaux sauvages\", \n",
    "           33: \"Fin de toutes interdictions\", \n",
    "           34: \"Direction obligatoire à droite\", \n",
    "           35: \"Direction obligatoire à gauche\", \n",
    "           36: \"Direction obligatoire tout droit\", \n",
    "           37: \"Direction obligatoire tout droit ou à droite\", \n",
    "           38: \"Direction obligatoire tout droit ou gauche\", \n",
    "           39: \"Contournement obligatoire par la droite\", \n",
    "           40: \"Contournement obligatoire par la gauche\", \n",
    "           41: \"Giratoire\",\n",
    "           42: \"Fin de l’interdiction de dépassement\", \n",
    "           43: \"Fin de l’interdiction de dépassement >3.5t\"}"
   ]
  },
  {
   "cell_type": "code",
   "execution_count": 40,
   "metadata": {},
   "outputs": [],
   "source": [
    "#initialisation tkinter\n",
    "top=tk.Tk()\n",
    "top.geometry('800x600')\n",
    "top.title('Classification des panneaux de signalisation')\n",
    "top.configure(background='#CDCDCD')\n",
    "label=Label(top,background='#CDCDCD', font=('arial',15,'bold'))\n",
    "sign_image = Label(top)"
   ]
  },
  {
   "cell_type": "code",
   "execution_count": 41,
   "metadata": {},
   "outputs": [],
   "source": [
    "#convertion de l'image en dimension de forme (1, 30, 30, 3) aux mêmes dimensions que notre modèle\n",
    "def classify(file_path):\n",
    "    global label_packed\n",
    "    image = Image.open(file_path)\n",
    "    image = image.resize((30,30))\n",
    "    image = numpy.expand_dims(image, axis=0)\n",
    "    image = numpy.array(image)\n",
    "    pred = model.predict_classes([image])[0]\n",
    "    sign = classes[pred+1]\n",
    "    print(sign)\n",
    "    label.configure(foreground='#011638', text=sign) "
   ]
  },
  {
   "cell_type": "code",
   "execution_count": 42,
   "metadata": {},
   "outputs": [],
   "source": [
    "#bouton pour classifier et utiliser la fonction précédente\n",
    "def show_classify_button(file_path):\n",
    "    classify_b=Button(top,text=\"Classification image\",command=lambda: classify(file_path),padx=10,pady=5)\n",
    "    classify_b.configure(background='#364156', foreground='white',font=('arial',10,'bold'))\n",
    "    classify_b.place(relx=0.79,rely=0.46)\n"
   ]
  },
  {
   "cell_type": "code",
   "execution_count": 43,
   "metadata": {},
   "outputs": [],
   "source": [
    "def upload_image():\n",
    "    try:\n",
    "        file_path=filedialog.askopenfilename()\n",
    "        uploaded=Image.open(file_path)\n",
    "        uploaded.thumbnail(((top.winfo_width()/2.25),(top.winfo_height()/2.25)))\n",
    "        im=ImageTk.PhotoImage(uploaded)\n",
    "        sign_image.configure(image=im)\n",
    "        sign_image.image=im\n",
    "        label.configure(text='')\n",
    "        show_classify_button(file_path)\n",
    "    except:\n",
    "        pass\n"
   ]
  },
  {
   "cell_type": "code",
   "execution_count": 44,
   "metadata": {},
   "outputs": [],
   "source": [
    "upload=Button(top,text=\"Télécharger image\",command=upload_image,padx=10,pady=5)\n",
    "upload.configure(background='#364156', foreground='white',font=('arial',10,'bold'))\n"
   ]
  },
  {
   "cell_type": "code",
   "execution_count": 45,
   "metadata": {},
   "outputs": [
    {
     "name": "stdout",
     "output_type": "stream",
     "text": [
      "Travaux\n",
      "Feux tricolore\n"
     ]
    }
   ],
   "source": [
    "upload.pack(side=BOTTOM,pady=50)\n",
    "sign_image.pack(side=BOTTOM,expand=True)\n",
    "label.pack(side=BOTTOM,expand=True)\n",
    "heading = Label(top, text=\"Connaitre panneau de signalisation\",pady=20, font=('arial',20,'bold'))\n",
    "heading.configure(background='#CDCDCD',foreground='#364156')\n",
    "heading.pack()\n",
    "top.mainloop()"
   ]
  },
  {
   "cell_type": "code",
   "execution_count": null,
   "metadata": {},
   "outputs": [],
   "source": []
  }
 ],
 "metadata": {
  "kernelspec": {
   "display_name": "Python 3",
   "language": "python",
   "name": "python3"
  },
  "language_info": {
   "codemirror_mode": {
    "name": "ipython",
    "version": 3
   },
   "file_extension": ".py",
   "mimetype": "text/x-python",
   "name": "python",
   "nbconvert_exporter": "python",
   "pygments_lexer": "ipython3",
   "version": "3.8.5"
  }
 },
 "nbformat": 4,
 "nbformat_minor": 4
}
